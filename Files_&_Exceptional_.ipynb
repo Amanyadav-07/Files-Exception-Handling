{
  "nbformat": 4,
  "nbformat_minor": 0,
  "metadata": {
    "colab": {
      "provenance": []
    },
    "kernelspec": {
      "name": "python3",
      "display_name": "Python 3"
    },
    "language_info": {
      "name": "python"
    }
  },
  "cells": [
    {
      "cell_type": "markdown",
      "source": [
        "###Q1. Discuss the scenarios where multithreading is preferable to multiprocessing and scenarios where multiprocessing is a better choice.\n"
      ],
      "metadata": {
        "id": "TQ0DbAY09hC8"
      }
    },
    {
      "cell_type": "markdown",
      "source": [
        "####Ans:- Scenarios where multithreading is preferable to multiprocessing are:\n",
        "\n",
        "\n",
        "\n",
        "```\n",
        "I/O-bound Tasks: When your program spends a lot of time waiting for external operations to complete, like reading or writing files, handling network requests, or interacting with databases.\n",
        "\n",
        "Real-time Systems: In applications where real-time responsiveness is crucial, such as in GUI applications or real-time data processing.\n",
        "\n",
        "Lightweight Tasks with Shared Data: When you have a lot of small, lightweight tasks that need to run concurrently and share data or resources.\n",
        "```\n",
        "####Scenarios where multiprocessing is better:\n",
        "\n",
        "```\n",
        "CPU-bound Tasks: When your program is limited by the speed of the CPU and requires a lot of computation, like mathematical calculations, data analysis, or machine learning tasks.\n",
        "\n",
        "Memory Isolation: When you need strong memory isolation between tasks, to prevent one task from corrupting the memory of another\n",
        "\n",
        "Handling Crashes and Faults: When you need fault tolerance, meaning that if one task crashes, it shouldn't affect other tasks.\n",
        "```\n",
        "\n",
        "\n",
        "\n",
        "\n",
        "\n",
        "\n",
        "\n",
        "\n",
        "\n"
      ],
      "metadata": {
        "id": "Y2KSEPOr9zz9"
      }
    },
    {
      "cell_type": "markdown",
      "source": [
        "###Q2. Describe what a process pool is and how it helps in managing multiple processes efficiently."
      ],
      "metadata": {
        "id": "xJihdkp0_kJz"
      }
    },
    {
      "cell_type": "markdown",
      "source": [
        "####Ans:- A process pool is a programming concept used to manage and control a collection of worker processes in parallel. It's a key feature provided by many programming languages and frameworks, including Python's multiprocessing module. The main goal of a process pool is to make it easier and more efficient to run multiple processes concurrently without the developer needing to manage each process individually.\n",
        "\n",
        "####How a Process Pool Works:\n",
        "\n",
        "\n",
        "```\n",
        "Pre-Spawning Processes: A process pool typically involves pre-creating a fixed number of processes that are kept ready to execute tasks. These processes remain idle until they are assigned work. This avoids the overhead of creating and destroying processes repeatedly, which can be costly in terms of time and resources.\n",
        "Task Assignment: When a task needs to be executed, the process pool assigns it to one of the available worker processes. If all processes are busy, the task waits in a queue until a process becomes available.\n",
        "\n",
        "Execution and Recycling: Once a worker process completes a task, it can take on another task from the queue. This recycling of processes means that the pool can handle a large number of tasks over time with a limited number of processes.\n",
        "\n",
        "Load Balancing: The pool manages the distribution of tasks across the available processes, trying to balance the load so that no single process is overwhelmed. This helps in optimizing the use of system resources.\n",
        "```\n",
        "\n"
      ],
      "metadata": {
        "id": "lon0n9xS_yzS"
      }
    },
    {
      "cell_type": "markdown",
      "source": [
        "###Explain what multiprocessing is and why it is used in Python programs?"
      ],
      "metadata": {
        "id": "m_0uMjjCAyE_"
      }
    },
    {
      "cell_type": "markdown",
      "source": [
        "####Ans:- Multiprocessing is a technique used in programming to execute multiple processes simultaneously, allowing a program to perform multiple tasks at the same time. In the context of computing, a process is an independent instance of a program that runs in its own memory space and can execute tasks independently from other processes.\n",
        "\n",
        "\n",
        "\n",
        "```\n",
        "Overcoming the Global Interpreter Lock (GIL): Only one thread can execute Python bytecode at a time. This can be a limitation when trying to run CPU-bound tasks concurrently using threads, as the GIL can become a bottleneck, preventing full utilization of multi-core processors.\n",
        "\n",
        "Better Utilization of Multi-core Processors:  Most modern CPUs have multiple cores, meaning they can execute multiple processes simultaneously. Multiprocessing in Python allows a program to fully utilize these cores, significantly improving performance for tasks that can be parallelized.\n",
        "\n",
        "Isolation Between Processes: Each process in a multiprocessing environment has its own memory space, meaning they don’t share memory with each other. This isolation reduces the risk of memory corruption or interference between tasks, which can be a concern in multithreading.\n",
        "\n",
        "```\n",
        "\n"
      ],
      "metadata": {
        "id": "m04p59MGA9ay"
      }
    },
    {
      "cell_type": "markdown",
      "source": [
        "###Q4. Write a Python program using multithreading where one thread adds numbers to a list, and another thread removes number from the list. Implement a mechanism to avoid race conditions using thread.Lock."
      ],
      "metadata": {
        "id": "1EGs_SPcCRiY"
      }
    },
    {
      "cell_type": "code",
      "source": [
        "import threading\n",
        "import time\n",
        "import random\n",
        "shared_list = []\n",
        "list_lock = threading.Lock()\n",
        "def add_numbers():\n",
        "    for i in range(10):\n",
        "        time.sleep(random.uniform(0.1, 0.5))\n",
        "        number = random.randint(1, 100)\n",
        "        with list_lock:\n",
        "            shared_list.append(number)\n",
        "            print(f\"Added {number} to the list. Current list: {shared_list}\")\n",
        "def remove_numbers():\n",
        "    for i in range(10):\n",
        "        time.sleep(random.uniform(0.1, 0.5))\n",
        "        with list_lock:\n",
        "            if shared_list:\n",
        "                removed_number = shared_list.pop(0)\n",
        "                print(f\"Removed {removed_number} from the list. Current list: {shared_list}\")\n",
        "            else:\n",
        "                print(\"List is empty, cannot remove.\")\n",
        "\n",
        "adder_thread = threading.Thread(target=add_numbers)\n",
        "remover_thread = threading.Thread(target=remove_numbers)\n",
        "\n",
        "adder_thread.start()\n",
        "remover_thread.start()\n",
        "\n",
        "adder_thread.join()\n",
        "remover_thread.join()\n",
        "\n",
        "print(\"Final list:\", shared_list)\n"
      ],
      "metadata": {
        "colab": {
          "base_uri": "https://localhost:8080/"
        },
        "id": "cqNjTSazCrBN",
        "outputId": "e46edfcf-2076-4432-d317-f24cbd617baa"
      },
      "execution_count": 2,
      "outputs": [
        {
          "output_type": "stream",
          "name": "stdout",
          "text": [
            "Added 12 to the list. Current list: [12]\n",
            "Removed 12 from the list. Current list: []\n",
            "Added 72 to the list. Current list: [72]\n",
            "Removed 72 from the list. Current list: []\n",
            "Added 39 to the list. Current list: [39]\n",
            "Removed 39 from the list. Current list: []\n",
            "List is empty, cannot remove.\n",
            "Added 51 to the list. Current list: [51]\n",
            "Removed 51 from the list. Current list: []\n",
            "Added 27 to the list. Current list: [27]\n",
            "Removed 27 from the list. Current list: []\n",
            "Added 35 to the list. Current list: [35]\n",
            "Added 53 to the list. Current list: [35, 53]\n",
            "Removed 35 from the list. Current list: [53]\n",
            "Removed 53 from the list. Current list: []\n",
            "Added 90 to the list. Current list: [90]\n",
            "Removed 90 from the list. Current list: []\n",
            "Added 58 to the list. Current list: [58]\n",
            "Removed 58 from the list. Current list: []\n",
            "Added 76 to the list. Current list: [76]\n",
            "Final list: [76]\n"
          ]
        }
      ]
    },
    {
      "cell_type": "markdown",
      "source": [
        "###Q5. Describe the methods and tools available in Python for safely sharing data between threads and processes."
      ],
      "metadata": {
        "id": "XcI0DdU8Db_I"
      }
    },
    {
      "cell_type": "markdown",
      "source": [
        "####Ans:- safely sharing data between threads and processes is essential to avoid issues like race conditions, data corruption, and deadlocks. Python provides several methods and tools for managing shared data safely in both multithreading and multiprocessing contexts. Below are the key methods and tools available:\n",
        "\n",
        "```\n",
        "Sharing Data Between Threads:\n",
        " threading.Lock: A Lock is the most basic synchronization primitive in Python. It ensures that only one thread can execute a block of code at a time.\n",
        "\n",
        " threading.RLock: A Reentrant Lock or RLock is similar to a Lock, but it can be acquired multiple times by the same thread without causing a deadlock. This is useful when a thread needs to acquire the lock in a nested function call.\n",
        "\n",
        " threading.Semaphore: A Semaphore allows a fixed number of threads to access a shared resource simultaneously. It is useful when you want to limit the number of threads performing a particular task.\n",
        "\n",
        " threading.Event: An Event is a simpler synchronization primitive that allows threads to wait for an event to be set before proceeding.\n",
        "\n",
        "Sharing Data Between Processes:\n",
        "\n",
        " multiprocessing.Queue: A Queue is a thread- and process-safe FIFO data structure that allows processes to exchange data. It's useful for passing messages or tasks between processes.\n",
        "\n",
        " multiprocessing.Pipe: A Pipe provides a two-way communication channel between two processes. It returns a pair of connection objects that represent the ends of the pipe.\n",
        "\n",
        " multiprocessing.Value and multiprocessing.Array: Value and Array allow sharing simple data types (e.g., integers, floats) and arrays between processes. These are synchronized, meaning that changes made by one process are visible to others.\n",
        "```\n",
        "\n"
      ],
      "metadata": {
        "id": "eaPOIHmZDoNN"
      }
    },
    {
      "cell_type": "markdown",
      "source": [
        "###Q6. Discuss why it's crucial to handle exceptions in concurrent programs and the techniques available for doing so?"
      ],
      "metadata": {
        "id": "TBQtE1VlFA8u"
      }
    },
    {
      "cell_type": "markdown",
      "source": [
        "####Ans:- Handling exceptions in concurrent programs is crucial because unhandled exceptions can lead to unpredictable behavior, resource leaks, or even crashes, which can be especially problematic when dealing with multiple threads or processes. Proper exception handling ensures that your program can gracefully recover from errors, maintain data integrity, and continue functioning or shut down safely.\n",
        "\n",
        "```\n",
        "Why Exception Handling in Concurrent Programs is Crucial:\n",
        "  Prevent Program Crashes: If an exception occurs in one thread or process and is not caught, it can terminate that thread or process prematurely. This may cause the entire program to crash or behave unexpectedly, especially if the thread or process was performing a critical task.\n",
        "\n",
        "  Maintain Data Integrity: Without proper exception handling, you may inadvertently leave locks or resources (like file handles or network connections) in an unreleased state, causing deadlocks or resource leaks.\n",
        "\n",
        "  Graceful Shutdown and Recovery: If a concurrent task fails, it's essential to clean up its state, release resources, and potentially retry or log the failure. Proper exception handling ensures that resources\n",
        "```\n",
        "####Techniques for Handling Exceptions in Concurrent Programs:\n",
        "\n",
        "\n",
        "```\n",
        "Try-Except Blocks in Threads: Catch exception within individual threads to handle errors locally.\n",
        "\n",
        "Threading with Exception Propagation: Capture exceptions in threads and propagate them back to the main thread.\n",
        "\n",
        "USing concurrent.futures for Threads and Process Pools: Manage multiple threads or processes with built-in exception handling and result retrival.\n",
        "```\n",
        "\n",
        "\n"
      ],
      "metadata": {
        "id": "8iTV9pEtFRRo"
      }
    },
    {
      "cell_type": "markdown",
      "source": [
        "###Q7. Create a Program that uses a thread pool to calculate the factorial of Numbers from 1 to 10 concurrently. Use concurrent.futures ThreadPoolExecutor to manage the threads."
      ],
      "metadata": {
        "id": "xZEvPneCHHKG"
      }
    },
    {
      "cell_type": "code",
      "source": [
        "from concurrent.futures import ThreadPoolExecutor, as_completed\n",
        "import math\n",
        "\n",
        "def calculate_factorial(n):\n",
        "    return math.factorial(n)\n",
        "\n",
        "if __name__ == \"__main__\":\n",
        "    numbers = range(1, 11)  # Numbers from 1 to 10\n",
        "\n",
        "    with ThreadPoolExecutor(max_workers=5) as executor:\n",
        "        futures = {executor.submit(calculate_factorial, num): num for num in numbers}\n",
        "        for future in as_completed(futures):\n",
        "            number = futures[future]\n",
        "            try:\n",
        "                result = future.result()\n",
        "                print(f\"Factorial of {number} is {result}\")\n",
        "            except Exception as e:\n",
        "                print(f\"Error calculating factorial of {number}: {e}\")\n"
      ],
      "metadata": {
        "colab": {
          "base_uri": "https://localhost:8080/"
        },
        "id": "qRhvDvgCHpZJ",
        "outputId": "3fec7088-bdbb-4019-c7cc-752fb47e108b"
      },
      "execution_count": 4,
      "outputs": [
        {
          "output_type": "stream",
          "name": "stdout",
          "text": [
            "Factorial of 3 is 6\n",
            "Factorial of 6 is 720\n",
            "Factorial of 7 is 5040\n",
            "Factorial of 4 is 24\n",
            "Factorial of 1 is 1\n",
            "Factorial of 10 is 3628800\n",
            "Factorial of 2 is 2\n",
            "Factorial of 9 is 362880\n",
            "Factorial of 5 is 120\n",
            "Factorial of 8 is 40320\n"
          ]
        }
      ]
    },
    {
      "cell_type": "markdown",
      "source": [
        "###Q8. Create a Python program that uses multiprocessing. Pool to compute the square of numbers from 1 to 10 in Parallel. Measures the time taken to perform this computation using a pool of different sizes (e.g., 2,4,6,8 processes)."
      ],
      "metadata": {
        "id": "jKer_JfHH9-C"
      }
    },
    {
      "cell_type": "code",
      "source": [
        "import multiprocessing\n",
        "import time\n",
        "def compute_square(n):\n",
        "    return n * n\n",
        "def measure_time(pool_size, numbers):\n",
        "    with multiprocessing.Pool(pool_size) as pool:\n",
        "        start_time = time.time()\n",
        "        results = pool.map(compute_square, numbers)\n",
        "        end_time = time.time()\n",
        "    duration = end_time - start_time\n",
        "    print(f\"Pool Size: {pool_size} | Time Taken: {duration:.6f} seconds | Results: {results}\")\n",
        "if __name__ == \"__main__\":\n",
        "    numbers = list(range(1, 11))\n",
        "    for pool_size in [2, 4, 8]:\n",
        "        measure_time(pool_size, numbers)\n"
      ],
      "metadata": {
        "colab": {
          "base_uri": "https://localhost:8080/"
        },
        "id": "MIkv8Cd2IsTh",
        "outputId": "370db7be-8679-4412-e725-d8f56813a3e8"
      },
      "execution_count": 7,
      "outputs": [
        {
          "output_type": "stream",
          "name": "stdout",
          "text": [
            "Pool Size: 2 | Time Taken: 0.009817 seconds | Results: [1, 4, 9, 16, 25, 36, 49, 64, 81, 100]\n",
            "Pool Size: 4 | Time Taken: 0.010000 seconds | Results: [1, 4, 9, 16, 25, 36, 49, 64, 81, 100]\n",
            "Pool Size: 8 | Time Taken: 0.010071 seconds | Results: [1, 4, 9, 16, 25, 36, 49, 64, 81, 100]\n"
          ]
        }
      ]
    }
  ]
}